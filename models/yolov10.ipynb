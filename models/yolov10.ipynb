{
  "nbformat": 4,
  "nbformat_minor": 0,
  "metadata": {
    "colab": {
      "provenance": [],
      "gpuType": "T4"
    },
    "kernelspec": {
      "name": "python3",
      "display_name": "Python 3"
    },
    "language_info": {
      "name": "python"
    },
    "accelerator": "GPU"
  },
  "cells": [
    {
      "cell_type": "code",
      "source": [
        "!wget https://github.com/THU-MIG/yolov10/releases/download/v1.1/yolov10n.pt\n",
        "!git clone https://github.com/THU-MIG/yolov10.git\n",
        "!mv ./yolov10/ultralytics\n",
        "!pip install ultralytics\n",
        "!pip install wandb\n",
        "!wandb disabled"
      ],
      "metadata": {
        "id": "DFVl4LwW7JZA"
      },
      "execution_count": null,
      "outputs": []
    },
    {
      "cell_type": "code",
      "execution_count": null,
      "metadata": {
        "id": "t4yt7MFy7CGs"
      },
      "outputs": [],
      "source": [
        "from ultralytics.models import YOLOv10\n",
        "model = YOLOv10('./yolov10n.pt')\n",
        "model.train(data='config\\yolov10_config.yaml', seed=42, epochs=100)"
      ]
    }
  ]
}