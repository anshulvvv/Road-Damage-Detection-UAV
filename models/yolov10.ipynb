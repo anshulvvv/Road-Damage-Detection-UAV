{
  "cells": [
    {
      "cell_type": "code",
      "execution_count": 1,
      "metadata": {},
      "outputs": [
        {
          "name": "stdout",
          "output_type": "stream",
          "text": [
            "Using device: cuda\n"
          ]
        }
      ],
      "source": [
        "import torch\n",
        "device = torch.device('cuda' if torch.cuda.is_available() else 'cpu')\n",
        "print('Using device:', device)"
      ]
    },
    {
      "cell_type": "code",
      "execution_count": 4,
      "metadata": {
        "id": "DFVl4LwW7JZA"
      },
      "outputs": [
        {
          "name": "stderr",
          "output_type": "stream",
          "text": [
            "Cloning into 'yolov10'...\n"
          ]
        },
        {
          "name": "stdout",
          "output_type": "stream",
          "text": [
            "Processing c:\\users\\anshul m\\downloads\\ai_road_health_assessment\\models\\yolov10\n",
            "  Installing build dependencies: started\n",
            "  Installing build dependencies: finished with status 'done'\n",
            "  Getting requirements to build wheel: started\n",
            "  Getting requirements to build wheel: finished with status 'done'\n",
            "    Preparing wheel metadata: started\n",
            "    Preparing wheel metadata: finished with status 'done'\n",
            "Requirement already satisfied: pillow>=7.1.2 in c:\\pythoning\\lib\\site-packages (from ultralytics==8.1.34) (9.0.1)\n",
            "Requirement already satisfied: pyyaml>=5.3.1 in c:\\pythoning\\lib\\site-packages (from ultralytics==8.1.34) (6.0)\n",
            "Requirement already satisfied: requests>=2.23.0 in c:\\pythoning\\lib\\site-packages (from ultralytics==8.1.34) (2.27.1)\n",
            "Requirement already satisfied: psutil in c:\\pythoning\\lib\\site-packages (from ultralytics==8.1.34) (5.8.0)\n",
            "Requirement already satisfied: seaborn>=0.11.0 in c:\\pythoning\\lib\\site-packages (from ultralytics==8.1.34) (0.11.2)\n",
            "Collecting py-cpuinfo\n",
            "  Downloading py_cpuinfo-9.0.0-py3-none-any.whl (22 kB)\n",
            "Collecting thop>=0.1.1\n",
            "  Downloading thop-0.1.1.post2209072238-py3-none-any.whl (15 kB)\n",
            "Requirement already satisfied: pandas>=1.1.4 in c:\\pythoning\\lib\\site-packages (from ultralytics==8.1.34) (1.4.2)\n",
            "Requirement already satisfied: scipy>=1.4.1 in c:\\pythoning\\lib\\site-packages (from ultralytics==8.1.34) (1.7.3)\n",
            "Requirement already satisfied: matplotlib>=3.3.0 in c:\\pythoning\\lib\\site-packages (from ultralytics==8.1.34) (3.5.1)\n",
            "Requirement already satisfied: torchvision>=0.9.0 in c:\\pythoning\\lib\\site-packages (from ultralytics==8.1.34) (0.21.0+cu124)\n",
            "Requirement already satisfied: tqdm>=4.64.0 in c:\\pythoning\\lib\\site-packages (from ultralytics==8.1.34) (4.64.0)\n",
            "Requirement already satisfied: torch>=1.8.0 in c:\\pythoning\\lib\\site-packages (from ultralytics==8.1.34) (2.6.0+cu124)\n",
            "Requirement already satisfied: opencv-python>=4.6.0 in c:\\pythoning\\lib\\site-packages (from ultralytics==8.1.34) (4.10.0.84)"
          ]
        },
        {
          "name": "stderr",
          "output_type": "stream",
          "text": [
            "  DEPRECATION: A future pip version will change local packages to be built in-place without first copying to a temporary directory. We recommend you use --use-feature=in-tree-build to test your packages with this new behavior before it becomes the default.\n",
            "   pip 21.3 will remove support for this functionality. You can find discussion regarding this at https://github.com/pypa/pip/issues/7555.\n",
            "ERROR: Could not install packages due to an OSError: [WinError 5] Access is denied: 'C:\\\\pythoning\\\\Lib\\\\site-packages\\\\~umpy.libs\\\\libopenblas64__v0.3.23-293-gc2f4bdbb-gcc_10_3_0-2bde3a66a51006b2b53eb373ff767a3f.dll'\n",
            "Consider using the `--user` option or check the permissions.\n",
            "\n"
          ]
        },
        {
          "name": "stdout",
          "output_type": "stream",
          "text": [
            "\n",
            "Requirement already satisfied: cycler>=0.10 in c:\\pythoning\\lib\\site-packages (from matplotlib>=3.3.0->ultralytics==8.1.34) (0.11.0)\n",
            "Requirement already satisfied: fonttools>=4.22.0 in c:\\pythoning\\lib\\site-packages (from matplotlib>=3.3.0->ultralytics==8.1.34) (4.25.0)\n",
            "Requirement already satisfied: numpy>=1.17 in c:\\pythoning\\lib\\site-packages (from matplotlib>=3.3.0->ultralytics==8.1.34) (1.26.4)\n",
            "Requirement already satisfied: python-dateutil>=2.7 in c:\\pythoning\\lib\\site-packages (from matplotlib>=3.3.0->ultralytics==8.1.34) (2.8.2)\n",
            "Requirement already satisfied: pyparsing>=2.2.1 in c:\\pythoning\\lib\\site-packages (from matplotlib>=3.3.0->ultralytics==8.1.34) (3.0.4)\n",
            "Requirement already satisfied: packaging>=20.0 in c:\\pythoning\\lib\\site-packages (from matplotlib>=3.3.0->ultralytics==8.1.34) (24.2)\n",
            "Requirement already satisfied: kiwisolver>=1.0.1 in c:\\pythoning\\lib\\site-packages (from matplotlib>=3.3.0->ultralytics==8.1.34) (1.3.2)\n",
            "Requirement already satisfied: pytz>=2020.1 in c:\\pythoning\\lib\\site-packages (from pandas>=1.1.4->ultralytics==8.1.34) (2021.3)\n",
            "Requirement already satisfied: six>=1.5 in c:\\pythoning\\lib\\site-packages (from python-dateutil>=2.7->matplotlib>=3.3.0->ultralytics==8.1.34) (1.16.0)\n",
            "Requirement already satisfied: certifi>=2017.4.17 in c:\\pythoning\\lib\\site-packages (from requests>=2.23.0->ultralytics==8.1.34) (2021.10.8)\n",
            "Requirement already satisfied: charset-normalizer~=2.0.0 in c:\\pythoning\\lib\\site-packages (from requests>=2.23.0->ultralytics==8.1.34) (2.0.4)\n",
            "Requirement already satisfied: urllib3<1.27,>=1.21.1 in c:\\pythoning\\lib\\site-packages (from requests>=2.23.0->ultralytics==8.1.34) (1.26.9)\n",
            "Requirement already satisfied: idna<4,>=2.5 in c:\\pythoning\\lib\\site-packages (from requests>=2.23.0->ultralytics==8.1.34) (3.3)\n",
            "Collecting numpy>=1.17\n",
            "  Downloading numpy-1.22.4-cp39-cp39-win_amd64.whl (14.7 MB)\n",
            "Requirement already satisfied: typing-extensions>=4.10.0 in c:\\pythoning\\lib\\site-packages (from torch>=1.8.0->ultralytics==8.1.34) (4.12.2)\n",
            "Requirement already satisfied: sympy==1.13.1 in c:\\pythoning\\lib\\site-packages (from torch>=1.8.0->ultralytics==8.1.34) (1.13.1)\n",
            "Requirement already satisfied: fsspec in c:\\pythoning\\lib\\site-packages (from torch>=1.8.0->ultralytics==8.1.34) (2022.2.0)\n",
            "Requirement already satisfied: jinja2 in c:\\pythoning\\lib\\site-packages (from torch>=1.8.0->ultralytics==8.1.34) (2.11.3)\n",
            "Requirement already satisfied: filelock in c:\\pythoning\\lib\\site-packages (from torch>=1.8.0->ultralytics==8.1.34) (3.6.0)\n",
            "Requirement already satisfied: networkx in c:\\pythoning\\lib\\site-packages (from torch>=1.8.0->ultralytics==8.1.34) (2.7.1)\n",
            "Requirement already satisfied: mpmath<1.4,>=1.1.0 in c:\\pythoning\\lib\\site-packages (from sympy==1.13.1->torch>=1.8.0->ultralytics==8.1.34) (1.2.1)\n",
            "Requirement already satisfied: colorama in c:\\pythoning\\lib\\site-packages (from tqdm>=4.64.0->ultralytics==8.1.34) (0.4.4)\n",
            "Requirement already satisfied: MarkupSafe>=0.23 in c:\\pythoning\\lib\\site-packages (from jinja2->torch>=1.8.0->ultralytics==8.1.34) (2.0.1)\n",
            "Building wheels for collected packages: ultralytics\n",
            "  Building wheel for ultralytics (PEP 517): started\n",
            "  Building wheel for ultralytics (PEP 517): finished with status 'done'\n",
            "  Created wheel for ultralytics: filename=ultralytics-8.1.34-py3-none-any.whl size=735427 sha256=66894fedf58c79cb5bef0fe907546f1e0fbca9bf395178435e8c2bb3cc2c0466\n",
            "  Stored in directory: C:\\Users\\ANSHUL M\\AppData\\Local\\Temp\\pip-ephem-wheel-cache-jmpmke2h\\wheels\\fd\\62\\0c\\0857c250bdbacfa18a330d972231962e75e5061e1277306317\n",
            "Successfully built ultralytics\n",
            "Installing collected packages: numpy, thop, py-cpuinfo, ultralytics\n",
            "  Attempting uninstall: numpy\n",
            "    Found existing installation: numpy 1.26.4\n",
            "    Uninstalling numpy-1.26.4:\n",
            "      Successfully uninstalled numpy-1.26.4\n"
          ]
        }
      ],
      "source": [
        "!git clone https://github.com/THU-MIG/yolov10.git\n",
        "!cd yolov10 && pip install ."
      ]
    },
    {
      "cell_type": "code",
      "execution_count": null,
      "metadata": {},
      "outputs": [
        {
          "name": "stdout",
          "output_type": "stream",
          "text": [
            "Collecting huggingface_hub\n",
            "  Downloading huggingface_hub-0.28.1-py3-none-any.whl (464 kB)\n",
            "Collecting fsspec>=2023.5.0\n",
            "  Downloading fsspec-2025.2.0-py3-none-any.whl (184 kB)\n",
            "Requirement already satisfied: tqdm>=4.42.1 in c:\\pythoning\\lib\\site-packages (from huggingface_hub) (4.64.0)\n",
            "Requirement already satisfied: requests in c:\\pythoning\\lib\\site-packages (from huggingface_hub) (2.27.1)\n",
            "Requirement already satisfied: typing-extensions>=3.7.4.3 in c:\\pythoning\\lib\\site-packages (from huggingface_hub) (4.12.2)\n",
            "Requirement already satisfied: packaging>=20.9 in c:\\pythoning\\lib\\site-packages (from huggingface_hub) (24.2)\n",
            "Requirement already satisfied: pyyaml>=5.1 in c:\\pythoning\\lib\\site-packages (from huggingface_hub) (6.0)\n",
            "Requirement already satisfied: filelock in c:\\pythoning\\lib\\site-packages (from huggingface_hub) (3.6.0)\n",
            "Requirement already satisfied: colorama in c:\\pythoning\\lib\\site-packages (from tqdm>=4.42.1->huggingface_hub) (0.4.4)\n",
            "Requirement already satisfied: urllib3<1.27,>=1.21.1 in c:\\pythoning\\lib\\site-packages (from requests->huggingface_hub) (1.26.9)\n",
            "Requirement already satisfied: idna<4,>=2.5 in c:\\pythoning\\lib\\site-packages (from requests->huggingface_hub) (3.3)\n",
            "Requirement already satisfied: certifi>=2017.4.17 in c:\\pythoning\\lib\\site-packages (from requests->huggingface_hub) (2021.10.8)\n",
            "Requirement already satisfied: charset-normalizer~=2.0.0 in c:\\pythoning\\lib\\site-packages (from requests->huggingface_hub) (2.0.4)\n",
            "Installing collected packages: fsspec, huggingface-hub\n",
            "  Attempting uninstall: fsspec\n",
            "    Found existing installation: fsspec 2022.2.0\n",
            "    Uninstalling fsspec-2022.2.0:\n",
            "      Successfully uninstalled fsspec-2022.2.0\n",
            "Successfully installed fsspec-2025.2.0 huggingface-hub-0.28.1\n",
            "Note: you may need to restart the kernel to use updated packages.\n"
          ]
        }
      ],
      "source": [
        "%pip install huggingface_hub\n"
      ]
    },
    {
      "cell_type": "code",
      "execution_count": null,
      "metadata": {},
      "outputs": [
        {
          "name": "stdout",
          "output_type": "stream",
          "text": [
            "Collecting safetensors\n",
            "  Downloading safetensors-0.5.2-cp38-abi3-win_amd64.whl (303 kB)\n",
            "Installing collected packages: safetensors\n",
            "Successfully installed safetensors-0.5.2\n",
            "Note: you may need to restart the kernel to use updated packages.\n"
          ]
        }
      ],
      "source": [
        "%pip install safetensors\n"
      ]
    },
    {
      "cell_type": "code",
      "execution_count": null,
      "metadata": {},
      "outputs": [
        {
          "name": "stdout",
          "output_type": "stream",
          "text": [
            "Requirement already satisfied: numpy in c:\\pythoning\\lib\\site-packages (1.22.4)\n",
            "Collecting numpy\n",
            "  Downloading numpy-2.0.2-cp39-cp39-win_amd64.whl (15.9 MB)\n",
            "Requirement already satisfied: tensorboard in c:\\pythoning\\lib\\site-packages (2.17.1)\n",
            "Collecting tensorboard\n",
            "  Downloading tensorboard-2.18.0-py3-none-any.whl (5.5 MB)\n",
            "Requirement already satisfied: protobuf in c:\\pythoning\\lib\\site-packages (5.29.3)\n",
            "Requirement already satisfied: setuptools>=41.0.0 in c:\\pythoning\\lib\\site-packages (from tensorboard) (61.2.0)\n",
            "Requirement already satisfied: packaging in c:\\pythoning\\lib\\site-packages (from tensorboard) (24.2)\n",
            "Requirement already satisfied: werkzeug>=1.0.1 in c:\\pythoning\\lib\\site-packages (from tensorboard) (2.0.3)\n",
            "Requirement already satisfied: tensorboard-data-server<0.8.0,>=0.7.0 in c:\\pythoning\\lib\\site-packages (from tensorboard) (0.7.2)\n",
            "Requirement already satisfied: markdown>=2.6.8 in c:\\pythoning\\lib\\site-packages (from tensorboard) (3.3.4)\n",
            "Requirement already satisfied: absl-py>=0.4 in c:\\pythoning\\lib\\site-packages (from tensorboard) (2.1.0)\n",
            "Requirement already satisfied: six>1.9 in c:\\pythoning\\lib\\site-packages (from tensorboard) (1.16.0)\n",
            "Requirement already satisfied: grpcio>=1.48.2 in c:\\pythoning\\lib\\site-packages (from tensorboard) (1.69.0)\n",
            "Installing collected packages: numpy, tensorboard\n",
            "  Attempting uninstall: numpy\n",
            "    Found existing installation: numpy 1.22.4\n",
            "    Uninstalling numpy-1.22.4:\n",
            "      Successfully uninstalled numpy-1.22.4\n",
            "Note: you may need to restart the kernel to use updated packages.\n"
          ]
        },
        {
          "name": "stderr",
          "output_type": "stream",
          "text": [
            "ERROR: Could not install packages due to an OSError: [WinError 5] Access is denied: 'C:\\\\pythoning\\\\Lib\\\\site-packages\\\\~-mpy\\\\.libs\\\\libopenblas.EL2C6PLE4ZYW3ECEVIV3OXXGRN2NRFM2.gfortran-win_amd64.dll'\n",
            "Consider using the `--user` option or check the permissions.\n",
            "\n"
          ]
        }
      ],
      "source": [
        "%pip install --upgrade numpy tensorboard protobuf\n"
      ]
    },
    {
      "cell_type": "code",
      "execution_count": 3,
      "metadata": {},
      "outputs": [
        {
          "name": "stdout",
          "output_type": "stream",
          "text": [
            "Collecting numpy<2\n",
            "  Using cached numpy-1.26.4-cp39-cp39-win_amd64.whl (15.8 MB)\n",
            "Installing collected packages: numpy\n",
            "  Attempting uninstall: numpy\n",
            "    Found existing installation: numpy 2.0.2\n",
            "    Uninstalling numpy-2.0.2:\n",
            "      Successfully uninstalled numpy-2.0.2\n",
            "Note: you may need to restart the kernel to use updated packages.\n"
          ]
        },
        {
          "name": "stderr",
          "output_type": "stream",
          "text": [
            "ERROR: Could not install packages due to an OSError: [WinError 5] Access is denied: 'C:\\\\pythoning\\\\Lib\\\\site-packages\\\\~-mpy.libs\\\\libscipy_openblas64_-caad452230ae4ddb57899b8b3a33c55c.dll'\n",
            "Consider using the `--user` option or check the permissions.\n",
            "\n"
          ]
        }
      ],
      "source": [
        "%pip install --upgrade \"numpy<2\"\n"
      ]
    },
    {
      "cell_type": "code",
      "execution_count": 2,
      "metadata": {},
      "outputs": [
        {
          "data": {
            "application/javascript": "\n        if (window._pyforest_update_imports_cell) { window._pyforest_update_imports_cell('import torch'); }\n    ",
            "text/plain": [
              "<IPython.core.display.Javascript object>"
            ]
          },
          "metadata": {},
          "output_type": "display_data"
        },
        {
          "data": {
            "application/javascript": "\n        if (window._pyforest_update_imports_cell) { window._pyforest_update_imports_cell('import torch'); }\n    ",
            "text/plain": [
              "<IPython.core.display.Javascript object>"
            ]
          },
          "metadata": {},
          "output_type": "display_data"
        },
        {
          "data": {
            "application/javascript": "\n        if (window._pyforest_update_imports_cell) { window._pyforest_update_imports_cell('import torch'); }\n    ",
            "text/plain": [
              "<IPython.core.display.Javascript object>"
            ]
          },
          "metadata": {},
          "output_type": "display_data"
        }
      ],
      "source": [
        "import os\n",
        "from torch.nn import Sequential\n",
        "from ultralytics.nn.modules import Conv\n",
        "from ultralytics.nn.tasks import DetectionModel\n",
        "torch.serialization.add_safe_globals([Conv])\n",
        "from numpy.core.multiarray import scalar\n",
        "torch.serialization.add_safe_globals([scalar])\n",
        "torch.serialization.add_safe_globals({\"ultralytics.nn.tasks.DetectionModel\": DetectionModel})"
      ]
    },
    {
      "cell_type": "code",
      "execution_count": null,
      "metadata": {
        "id": "t4yt7MFy7CGs"
      },
      "outputs": [
        {
          "name": "stdout",
          "output_type": "stream",
          "text": [
            "New https://pypi.org/project/ultralytics/8.3.74 available 😃 Update with 'pip install -U ultralytics'\n",
            "Ultralytics YOLOv8.1.34 🚀 Python-3.9.12 torch-2.6.0+cu124 CUDA:0 (NVIDIA GeForce GTX 1650, 4096MiB)\n",
            "\u001b[34m\u001b[1mengine\\trainer: \u001b[0mtask=detect, mode=train, model=yolov10n.yaml, data=C:\\Users\\ANSHUL M\\Downloads\\AI_Road_Health_Assessment\\config\\yolov10_config.yaml, epochs=5, time=None, patience=100, batch=8, imgsz=640, save=True, save_period=-1, val_period=1, cache=False, device=None, workers=8, project=None, name=train22, exist_ok=False, pretrained=True, optimizer=auto, verbose=True, seed=0, deterministic=True, single_cls=False, rect=False, cos_lr=False, close_mosaic=10, resume=False, amp=True, fraction=1.0, profile=False, freeze=None, multi_scale=False, overlap_mask=True, mask_ratio=4, dropout=0.0, val=True, split=val, save_json=False, save_hybrid=False, conf=None, iou=0.7, max_det=300, half=False, dnn=False, plots=True, source=None, vid_stride=1, stream_buffer=False, visualize=False, augment=False, agnostic_nms=False, classes=None, retina_masks=False, embed=None, show=False, save_frames=False, save_txt=False, save_conf=False, save_crop=False, show_labels=True, show_conf=True, show_boxes=True, line_width=None, format=torchscript, keras=False, optimize=False, int8=False, dynamic=False, simplify=False, opset=None, workspace=4, nms=False, lr0=0.01, lrf=0.01, momentum=0.937, weight_decay=0.0005, warmup_epochs=3.0, warmup_momentum=0.8, warmup_bias_lr=0.1, box=7.5, cls=0.5, dfl=1.5, pose=12.0, kobj=1.0, label_smoothing=0.0, nbs=64, hsv_h=0.015, hsv_s=0.7, hsv_v=0.4, degrees=0.0, translate=0.1, scale=0.5, shear=0.0, perspective=0.0, flipud=0.0, fliplr=0.5, bgr=0.0, mosaic=1.0, mixup=0.0, copy_paste=0.0, auto_augment=randaugment, erasing=0.4, crop_fraction=1.0, cfg=None, tracker=botsort.yaml, save_dir=c:\\Users\\ANSHUL M\\Downloads\\AI_Road_Health_Assessment\\models\\yolov10\\runs\\detect\\train22\n",
            "Overriding model.yaml nc=80 with nc=4\n",
            "\n",
            "                   from  n    params  module                                       arguments                     \n",
            "  0                  -1  1       464  ultralytics.nn.modules.conv.Conv             [3, 16, 3, 2]                 \n",
            "  1                  -1  1      4672  ultralytics.nn.modules.conv.Conv             [16, 32, 3, 2]                \n",
            "  2                  -1  1      7360  ultralytics.nn.modules.block.C2f             [32, 32, 1, True]             \n",
            "  3                  -1  1     18560  ultralytics.nn.modules.conv.Conv             [32, 64, 3, 2]                \n",
            "  4                  -1  2     49664  ultralytics.nn.modules.block.C2f             [64, 64, 2, True]             \n",
            "  5                  -1  1      9856  ultralytics.nn.modules.block.SCDown          [64, 128, 3, 2]               \n",
            "  6                  -1  2    197632  ultralytics.nn.modules.block.C2f             [128, 128, 2, True]           \n",
            "  7                  -1  1     36096  ultralytics.nn.modules.block.SCDown          [128, 256, 3, 2]              \n",
            "  8                  -1  1    460288  ultralytics.nn.modules.block.C2f             [256, 256, 1, True]           \n",
            "  9                  -1  1    164608  ultralytics.nn.modules.block.SPPF            [256, 256, 5]                 \n",
            " 10                  -1  1    249728  ultralytics.nn.modules.block.PSA             [256, 256]                    \n",
            " 11                  -1  1         0  torch.nn.modules.upsampling.Upsample         [None, 2, 'nearest']          \n",
            " 12             [-1, 6]  1         0  ultralytics.nn.modules.conv.Concat           [1]                           \n",
            " 13                  -1  1    148224  ultralytics.nn.modules.block.C2f             [384, 128, 1]                 \n",
            " 14                  -1  1         0  torch.nn.modules.upsampling.Upsample         [None, 2, 'nearest']          \n",
            " 15             [-1, 4]  1         0  ultralytics.nn.modules.conv.Concat           [1]                           \n",
            " 16                  -1  1     37248  ultralytics.nn.modules.block.C2f             [192, 64, 1]                  \n",
            " 17                  -1  1     36992  ultralytics.nn.modules.conv.Conv             [64, 64, 3, 2]                \n",
            " 18            [-1, 13]  1         0  ultralytics.nn.modules.conv.Concat           [1]                           \n",
            " 19                  -1  1    123648  ultralytics.nn.modules.block.C2f             [192, 128, 1]                 \n",
            " 20                  -1  1     18048  ultralytics.nn.modules.block.SCDown          [128, 128, 3, 2]              \n",
            " 21            [-1, 10]  1         0  ultralytics.nn.modules.conv.Concat           [1]                           \n",
            " 22                  -1  1    282624  ultralytics.nn.modules.block.C2fCIB          [384, 256, 1, True, True]     \n",
            " 23        [16, 19, 22]  1    862888  ultralytics.nn.modules.head.v10Detect        [4, [64, 128, 256]]           \n",
            "YOLOv10n summary: 385 layers, 2708600 parameters, 2708584 gradients, 8.4 GFLOPs\n",
            "\n",
            "\u001b[34m\u001b[1mTensorBoard: \u001b[0mStart with 'tensorboard --logdir c:\\Users\\ANSHUL M\\Downloads\\AI_Road_Health_Assessment\\models\\yolov10\\runs\\detect\\train22', view at http://localhost:6006/\n",
            "Freezing layer 'model.23.dfl.conv.weight'\n",
            "\u001b[34m\u001b[1mAMP: \u001b[0mrunning Automatic Mixed Precision (AMP) checks with YOLOv8n...\n",
            "\u001b[34m\u001b[1mAMP: \u001b[0mchecks skipped ⚠️. Unable to load YOLOv8n due to possible Ultralytics package modifications. Setting 'amp=True'. If you experience zero-mAP or NaN losses you can disable AMP with amp=False.\n"
          ]
        },
        {
          "name": "stderr",
          "output_type": "stream",
          "text": [
            "\u001b[34m\u001b[1mtrain: \u001b[0mScanning C:\\Users\\ANSHUL M\\Downloads\\dataset_rdd\\labels\\train.cache... 450 images, 257 backgrounds, 0 corrupt: 100%|██████████| 450/450 [00:00<?, ?it/s]\n"
          ]
        }
      ],
      "source": [
        "\n",
        "from ultralytics import YOLOv10\n",
        "\n",
        "config_path = r\"C:\\Users\\ANSHUL M\\Downloads\\AI_Road_Health_Assessment\\config\\yolov10_config.yaml\"\n",
        "\n",
        "# Load a model\n",
        "model = YOLOv10.from_pretrained(\"jameslahm/yolov10n\")  # load pre trained model\n",
        "\n",
        "# Use the model\n",
        "model.train(data=config_path, epochs=5, batch=8)  # train the model\n"
      ]
    }
  ],
  "metadata": {
    "accelerator": "GPU",
    "colab": {
      "gpuType": "T4",
      "provenance": []
    },
    "kernelspec": {
      "display_name": "base",
      "language": "python",
      "name": "python3"
    },
    "language_info": {
      "codemirror_mode": {
        "name": "ipython",
        "version": 3
      },
      "file_extension": ".py",
      "mimetype": "text/x-python",
      "name": "python",
      "nbconvert_exporter": "python",
      "pygments_lexer": "ipython3",
      "version": "3.9.12"
    }
  },
  "nbformat": 4,
  "nbformat_minor": 0
}
