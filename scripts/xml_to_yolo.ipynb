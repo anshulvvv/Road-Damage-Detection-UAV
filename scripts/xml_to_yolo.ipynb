{
  "cells": [
    {
      "cell_type": "code",
      "execution_count": 2,
      "metadata": {
        "id": "HHrr7dnsBFK7"
      },
      "outputs": [],
      "source": [
        "import os\n",
        "import xml.etree.ElementTree as ET"
      ]
    },
    {
      "cell_type": "code",
      "execution_count": 11,
      "metadata": {
        "id": "7MWp3QjpBIX6"
      },
      "outputs": [],
      "source": [
        "input_folder = r\"C:\\Users\\ANSHUL M\\Downloads\\RDD2022_India\\India\\val\\annotations\\xmls\"\n",
        "output_folder = r\"C:\\Users\\ANSHUL M\\Downloads\\RDD2022_India\\India\\val\\annotations\\labels\"\n",
        "os.makedirs(output_folder, exist_ok=True) "
      ]
    },
    {
      "cell_type": "code",
      "execution_count": 12,
      "metadata": {
        "id": "0mIsO2QnBK3c"
      },
      "outputs": [],
      "source": [
        "class_name_to_id = {\n",
        "    \"D00\": 0,\n",
        "    \"D10\": 1,\n",
        "    \"D20\": 2,\n",
        "    \"D40\": 3,\n",
        "    # Add more classes if needed...\n",
        "}"
      ]
    },
    {
      "cell_type": "code",
      "execution_count": 13,
      "metadata": {
        "colab": {
          "base_uri": "https://localhost:8080/"
        },
        "id": "EjWMkd8nBEaF",
        "outputId": "4ec3e02d-b621-4e74-919a-4ddbe7624db8"
      },
      "outputs": [
        {
          "name": "stdout",
          "output_type": "stream",
          "text": [
            "[INFO] Wrote C:\\Users\\ANSHUL M\\Downloads\\RDD2022_India\\India\\val\\annotations\\labels\\India_000081.txt\n",
            "[INFO] Wrote C:\\Users\\ANSHUL M\\Downloads\\RDD2022_India\\India\\val\\annotations\\labels\\India_000294.txt\n",
            "[INFO] Wrote C:\\Users\\ANSHUL M\\Downloads\\RDD2022_India\\India\\val\\annotations\\labels\\India_000326.txt\n",
            "[INFO] Wrote C:\\Users\\ANSHUL M\\Downloads\\RDD2022_India\\India\\val\\annotations\\labels\\India_000347.txt\n",
            "[INFO] Wrote C:\\Users\\ANSHUL M\\Downloads\\RDD2022_India\\India\\val\\annotations\\labels\\India_000349.txt\n",
            "[INFO] Wrote C:\\Users\\ANSHUL M\\Downloads\\RDD2022_India\\India\\val\\annotations\\labels\\India_000756.txt\n",
            "[INFO] Wrote C:\\Users\\ANSHUL M\\Downloads\\RDD2022_India\\India\\val\\annotations\\labels\\India_000797.txt\n",
            "[INFO] Wrote C:\\Users\\ANSHUL M\\Downloads\\RDD2022_India\\India\\val\\annotations\\labels\\India_000840.txt\n",
            "[INFO] Wrote C:\\Users\\ANSHUL M\\Downloads\\RDD2022_India\\India\\val\\annotations\\labels\\India_000909.txt\n",
            "[Warning] Class 'D44' not in class_name_to_id. Skipping.\n",
            "[INFO] Wrote C:\\Users\\ANSHUL M\\Downloads\\RDD2022_India\\India\\val\\annotations\\labels\\India_000993.txt\n",
            "[INFO] Wrote C:\\Users\\ANSHUL M\\Downloads\\RDD2022_India\\India\\val\\annotations\\labels\\India_001165.txt\n",
            "[INFO] Wrote C:\\Users\\ANSHUL M\\Downloads\\RDD2022_India\\India\\val\\annotations\\labels\\India_001378.txt\n",
            "[INFO] Wrote C:\\Users\\ANSHUL M\\Downloads\\RDD2022_India\\India\\val\\annotations\\labels\\India_001394.txt\n",
            "[INFO] Wrote C:\\Users\\ANSHUL M\\Downloads\\RDD2022_India\\India\\val\\annotations\\labels\\India_001879.txt\n",
            "[INFO] Wrote C:\\Users\\ANSHUL M\\Downloads\\RDD2022_India\\India\\val\\annotations\\labels\\India_002092.txt\n",
            "[INFO] Wrote C:\\Users\\ANSHUL M\\Downloads\\RDD2022_India\\India\\val\\annotations\\labels\\India_002112.txt\n",
            "[INFO] Wrote C:\\Users\\ANSHUL M\\Downloads\\RDD2022_India\\India\\val\\annotations\\labels\\India_002142.txt\n",
            "[INFO] Wrote C:\\Users\\ANSHUL M\\Downloads\\RDD2022_India\\India\\val\\annotations\\labels\\India_002214.txt\n",
            "[INFO] Wrote C:\\Users\\ANSHUL M\\Downloads\\RDD2022_India\\India\\val\\annotations\\labels\\India_002249.txt\n",
            "[INFO] Wrote C:\\Users\\ANSHUL M\\Downloads\\RDD2022_India\\India\\val\\annotations\\labels\\India_002315.txt\n",
            "[INFO] Wrote C:\\Users\\ANSHUL M\\Downloads\\RDD2022_India\\India\\val\\annotations\\labels\\India_002543.txt\n",
            "[INFO] Wrote C:\\Users\\ANSHUL M\\Downloads\\RDD2022_India\\India\\val\\annotations\\labels\\India_002576.txt\n",
            "[INFO] Wrote C:\\Users\\ANSHUL M\\Downloads\\RDD2022_India\\India\\val\\annotations\\labels\\India_003093.txt\n",
            "[INFO] Wrote C:\\Users\\ANSHUL M\\Downloads\\RDD2022_India\\India\\val\\annotations\\labels\\India_003141.txt\n",
            "[INFO] Wrote C:\\Users\\ANSHUL M\\Downloads\\RDD2022_India\\India\\val\\annotations\\labels\\India_003317.txt\n",
            "[INFO] Wrote C:\\Users\\ANSHUL M\\Downloads\\RDD2022_India\\India\\val\\annotations\\labels\\India_003619.txt\n",
            "[INFO] Wrote C:\\Users\\ANSHUL M\\Downloads\\RDD2022_India\\India\\val\\annotations\\labels\\India_004106.txt\n",
            "[INFO] Wrote C:\\Users\\ANSHUL M\\Downloads\\RDD2022_India\\India\\val\\annotations\\labels\\India_004163.txt\n",
            "[INFO] Wrote C:\\Users\\ANSHUL M\\Downloads\\RDD2022_India\\India\\val\\annotations\\labels\\India_004437.txt\n",
            "[INFO] Wrote C:\\Users\\ANSHUL M\\Downloads\\RDD2022_India\\India\\val\\annotations\\labels\\India_005069.txt\n",
            "[INFO] Wrote C:\\Users\\ANSHUL M\\Downloads\\RDD2022_India\\India\\val\\annotations\\labels\\India_005580.txt\n",
            "[INFO] Wrote C:\\Users\\ANSHUL M\\Downloads\\RDD2022_India\\India\\val\\annotations\\labels\\India_005671.txt\n",
            "[INFO] Wrote C:\\Users\\ANSHUL M\\Downloads\\RDD2022_India\\India\\val\\annotations\\labels\\India_005843.txt\n",
            "[INFO] Wrote C:\\Users\\ANSHUL M\\Downloads\\RDD2022_India\\India\\val\\annotations\\labels\\India_005853.txt\n",
            "[INFO] Wrote C:\\Users\\ANSHUL M\\Downloads\\RDD2022_India\\India\\val\\annotations\\labels\\India_005953.txt\n",
            "[INFO] Wrote C:\\Users\\ANSHUL M\\Downloads\\RDD2022_India\\India\\val\\annotations\\labels\\India_006278.txt\n",
            "[INFO] Wrote C:\\Users\\ANSHUL M\\Downloads\\RDD2022_India\\India\\val\\annotations\\labels\\India_006382.txt\n",
            "[INFO] Wrote C:\\Users\\ANSHUL M\\Downloads\\RDD2022_India\\India\\val\\annotations\\labels\\India_006719.txt\n",
            "[INFO] Wrote C:\\Users\\ANSHUL M\\Downloads\\RDD2022_India\\India\\val\\annotations\\labels\\India_006914.txt\n",
            "[INFO] Wrote C:\\Users\\ANSHUL M\\Downloads\\RDD2022_India\\India\\val\\annotations\\labels\\India_006939.txt\n",
            "[INFO] Wrote C:\\Users\\ANSHUL M\\Downloads\\RDD2022_India\\India\\val\\annotations\\labels\\India_007059.txt\n",
            "[INFO] Wrote C:\\Users\\ANSHUL M\\Downloads\\RDD2022_India\\India\\val\\annotations\\labels\\India_007314.txt\n",
            "[Warning] Class 'D44' not in class_name_to_id. Skipping.\n",
            "[INFO] Wrote C:\\Users\\ANSHUL M\\Downloads\\RDD2022_India\\India\\val\\annotations\\labels\\India_007357.txt\n",
            "[INFO] Wrote C:\\Users\\ANSHUL M\\Downloads\\RDD2022_India\\India\\val\\annotations\\labels\\India_007549.txt\n",
            "[INFO] Wrote C:\\Users\\ANSHUL M\\Downloads\\RDD2022_India\\India\\val\\annotations\\labels\\India_007578.txt\n",
            "[INFO] Wrote C:\\Users\\ANSHUL M\\Downloads\\RDD2022_India\\India\\val\\annotations\\labels\\India_007975.txt\n",
            "[INFO] Wrote C:\\Users\\ANSHUL M\\Downloads\\RDD2022_India\\India\\val\\annotations\\labels\\India_007996.txt\n",
            "[INFO] Wrote C:\\Users\\ANSHUL M\\Downloads\\RDD2022_India\\India\\val\\annotations\\labels\\India_008906.txt\n",
            "[INFO] Wrote C:\\Users\\ANSHUL M\\Downloads\\RDD2022_India\\India\\val\\annotations\\labels\\India_009055.txt\n",
            "[INFO] Wrote C:\\Users\\ANSHUL M\\Downloads\\RDD2022_India\\India\\val\\annotations\\labels\\India_009742.txt\n"
          ]
        }
      ],
      "source": [
        "for file_name in os.listdir(input_folder):\n",
        "    if not file_name.endswith(\".xml\"):\n",
        "        continue  # Skip non-XML files\n",
        "\n",
        "    xml_path = os.path.join(input_folder, file_name)\n",
        "    tree = ET.parse(xml_path)\n",
        "    root = tree.getroot()\n",
        "\n",
        "    # Retrieve image size to normalize bounding boxes\n",
        "    size = root.find(\"size\")\n",
        "    if size is None:\n",
        "        print(f\"[Warning] No <size> tag in {xml_path}, skipping.\")\n",
        "        continue\n",
        "\n",
        "    width = float(size.find(\"width\").text)\n",
        "    height = float(size.find(\"height\").text)\n",
        "\n",
        "    # The YOLO text file we will write\n",
        "    txt_file_name = file_name.replace(\".xml\", \".txt\")\n",
        "    txt_path = os.path.join(output_folder, txt_file_name)\n",
        "\n",
        "    # A list to hold each bounding box line\n",
        "    yolo_lines = []\n",
        "\n",
        "    # 4) Parse each <object> tag in the XML\n",
        "    for obj in root.findall(\"object\"):\n",
        "        class_name = obj.find(\"name\").text.strip()\n",
        "        if class_name not in class_name_to_id:\n",
        "            print(f\"[Warning] Class '{class_name}' not in class_name_to_id. Skipping.\")\n",
        "            continue\n",
        "\n",
        "        class_id = class_name_to_id[class_name]\n",
        "\n",
        "        bndbox = obj.find(\"bndbox\")\n",
        "        xmin = float(bndbox.find(\"xmin\").text)\n",
        "        ymin = float(bndbox.find(\"ymin\").text)\n",
        "        xmax = float(bndbox.find(\"xmax\").text)\n",
        "        ymax = float(bndbox.find(\"ymax\").text)\n",
        "\n",
        "        # Convert to YOLO (x_center, y_center, width, height)\n",
        "        x_center = (xmin + xmax) / 2.0\n",
        "        y_center = (ymin + ymax) / 2.0\n",
        "        box_width = (xmax - xmin)\n",
        "        box_height = (ymax - ymin)\n",
        "\n",
        "        # Normalize by image width/height\n",
        "        x_center /= width\n",
        "        y_center /= height\n",
        "        box_width /= width\n",
        "        box_height /= height\n",
        "\n",
        "        # YOLO format: class_id x_center y_center width height\n",
        "        yolo_line = f\"{class_id} {x_center:.6f} {y_center:.6f} {box_width:.6f} {box_height:.6f}\"\n",
        "        yolo_lines.append(yolo_line)\n",
        "\n",
        "    # 5) Write out the .txt file\n",
        "    with open(txt_path, \"w\") as f:\n",
        "        for line in yolo_lines:\n",
        "            f.write(line + \"\\n\")\n",
        "\n",
        "    print(f\"[INFO] Wrote {txt_path}\")"
      ]
    }
  ],
  "metadata": {
    "accelerator": "GPU",
    "colab": {
      "gpuType": "T4",
      "provenance": []
    },
    "kernelspec": {
      "display_name": "base",
      "language": "python",
      "name": "python3"
    },
    "language_info": {
      "codemirror_mode": {
        "name": "ipython",
        "version": 3
      },
      "file_extension": ".py",
      "mimetype": "text/x-python",
      "name": "python",
      "nbconvert_exporter": "python",
      "pygments_lexer": "ipython3",
      "version": "3.9.12"
    }
  },
  "nbformat": 4,
  "nbformat_minor": 0
}
